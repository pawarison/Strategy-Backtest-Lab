{
 "cells": [
  {
   "cell_type": "code",
   "execution_count": 1,
   "id": "236958a6-93be-43b8-96f8-800ddd67db85",
   "metadata": {},
   "outputs": [],
   "source": [
    "import numpy as np\n",
    "import pandas as pd\n",
    "import vectorbt as vbt\n",
    "import seaborn as sns \n",
    "import matplotlib.pyplot as plt\n",
    "import pandas_ta as ta\n",
    "import yfinance as yf \n",
    "import warnings\n",
    "warnings.filterwarnings('ignore')\n",
    "plt.style.use('ggplot')\n",
    "%matplotlib inline"
   ]
  },
  {
   "cell_type": "code",
   "execution_count": 2,
   "id": "8d96a877-763b-4e44-b432-bfc12998264c",
   "metadata": {},
   "outputs": [],
   "source": [
    "df = pd.read_csv('2022.2.9BTCUSDT-H1-NoSession.csv')\n",
    "df.Date = df.Date.astype(str)+' '+ df.Time\n",
    "df.Date = pd.to_datetime(df.Date)\n",
    "df.drop(columns= ['Time'], inplace = True)\n",
    "df = df.set_index('Date')"
   ]
  },
  {
   "cell_type": "code",
   "execution_count": 3,
   "id": "fa877553-d9f7-49a8-845c-14ad09363b85",
   "metadata": {},
   "outputs": [],
   "source": [
    "#initial\n",
    "def set_up_df(df:pd.DataFrame , index):  \n",
    "    df1    =   pd.DataFrame(columns=index)\n",
    "    df1['date']  =    df.index \n",
    "    df1.date = pd.to_datetime(df1.date,format='%Y-%m-%d')\n",
    "    df1 = df1.set_index('date')\n",
    "    return df1\n",
    "\n",
    "#for calculate duration\n",
    "def convert_to_hours(delta):\n",
    "    total_seconds = delta.total_seconds()\n",
    "    hours = str(int(total_seconds // 3600))\n",
    "    return hours\n",
    "\n",
    "#Performance Matric\n",
    "def cal_consecutive(df:pd.DataFrame):\n",
    "    df['win']= np.sign(df) # assign sign on log\n",
    "    blocks = df['win'].ne(df['win'].shift()).cumsum() \n",
    "    df['consecutive_WL'] = df['win'].groupby(blocks).cumsum()\n",
    "    return df['consecutive_WL'] \n",
    "\n",
    "def Cal_portstat(port):\n",
    "    port_return = port.total_return().to_frame()\n",
    "    port_return['MaxDD'] = port.max_drawdown()\n",
    "    port_return['NumTrade'] = port.trades.count()\n",
    "    port_return['WinRate'] = port.trades.win_rate()\n",
    "    port_return['AvgWinningTrade'] = port.trades.winning.returns.mean()\n",
    "    port_return['AvgLosingTrade'] = port.trades.losing.returns.mean()\n",
    "    port_return['SharpRatio'] = port.returns_acc.sharpe_ratio()\n",
    "    return port_return\n",
    "\n",
    "def Cal_pip(df):\n",
    "    pip = []\n",
    "    pipp = df['Avg Exit Price'] - df['Avg Entry Price']\n",
    "    for i in portfinal['Direction']:\n",
    "        if i == 'Long':\n",
    "            pip.append(1)\n",
    "        else :\n",
    "            pip.append(-1)    \n",
    "    return (pip * pipp) \n",
    "\n",
    "def Cal_mae_mfe(data,port):\n",
    "    MAE = []\n",
    "    MFE = []\n",
    "    for i,j,y,k in zip(port['Entry Timestamp'], port['Exit Timestamp'], port['Avg Entry Price'], port['Direction']):\n",
    "        if k == 'Long':\n",
    "            MFE.append((data.loc[i:j]['High'].max() - y)/y)\n",
    "            MAE.append((y - df.loc[i:j]['Low'].min())/y)\n",
    "        else :\n",
    "            MAE.append((data.loc[i:j]['High'].max() - y)/y)\n",
    "            MFE.append((y - df.loc[i:j]['Low'].min())/y)\n",
    "    return MAE, MFE  \n",
    "\n",
    "def Calkelly(port):\n",
    "    init_cash = 10000\n",
    "    W = port.stats()[15]/100\n",
    "    A = abs(port.stats()[19])\n",
    "    B = port.stats()[18]\n",
    "    Percent_kelly = (W/A) - ((1-W)/B)\n",
    "    riskpertrade = Percent_kelly * init_cash\n",
    "    print(f'Percent_kelly = {Percent_kelly}')"
   ]
  },
  {
   "cell_type": "markdown",
   "id": "e3ac094c-e69b-4c13-b333-39f0e24a09e5",
   "metadata": {},
   "source": [
    "#### Default Supertrend"
   ]
  },
  {
   "cell_type": "code",
   "execution_count": 4,
   "id": "bb2dfc43-1ff5-4232-969d-a36578b14c5b",
   "metadata": {},
   "outputs": [],
   "source": [
    "supert = df.ta.supertrend(7)['SUPERTd_7_3.0']\n",
    "\n",
    "long_signal = (supert == 1) # & (adx<30)\n",
    "short_signal = (supert == -1) #& (adx<30)\n",
    "  \n",
    "long_exit = short_signal\n",
    "short_exit = long_signal\n",
    "\n",
    "#add to Empty Dataframe\n",
    "LongEntries = long_signal\n",
    "LongExit= long_exit    \n",
    "ShortEntries= short_signal\n",
    "ShortExit= short_exit"
   ]
  },
  {
   "cell_type": "code",
   "execution_count": 5,
   "id": "673f7f69-5fd1-4fb0-bde5-2a13b350d1b2",
   "metadata": {},
   "outputs": [],
   "source": [
    "port = vbt.Portfolio.from_signals(df.Close,\n",
    "                                entries = LongEntries,\n",
    "                                exits = LongExit,\n",
    "                                short_entries = ShortEntries,\n",
    "                                short_exits = ShortExit,\n",
    "                                freq = 'H',\n",
    "                                init_cash = 10000,\n",
    "                                fees = 0.00,\n",
    "                                slippage = 0.00)"
   ]
  },
  {
   "cell_type": "code",
   "execution_count": 6,
   "id": "f398a4e8-404c-4051-af20-83b97a7c4479",
   "metadata": {},
   "outputs": [
    {
     "name": "stdout",
     "output_type": "stream",
     "text": [
      "Percent_kelly = 0.03637754486842301\n"
     ]
    }
   ],
   "source": [
    "Calkelly(port)"
   ]
  },
  {
   "cell_type": "code",
   "execution_count": 7,
   "id": "fb0672a9-739d-417e-a0fd-a22b4a679785",
   "metadata": {},
   "outputs": [
    {
     "data": {
      "text/plain": [
       "Start                               2017-08-17 04:00:00\n",
       "End                                 2022-02-03 00:00:00\n",
       "Period                               1625 days 15:00:00\n",
       "Start Value                                     10000.0\n",
       "End Value                                 223127.228917\n",
       "Total Return [%]                            2131.272289\n",
       "Benchmark Return [%]                         755.879438\n",
       "Max Gross Exposure [%]                            100.0\n",
       "Total Fees Paid                                     0.0\n",
       "Max Drawdown [%]                              54.732545\n",
       "Max Drawdown Duration                 211 days 08:00:00\n",
       "Total Trades                                        704\n",
       "Total Closed Trades                                 703\n",
       "Total Open Trades                                     1\n",
       "Open Trade PnL                              4779.603853\n",
       "Win Rate [%]                                   39.97155\n",
       "Best Trade [%]                                59.564738\n",
       "Worst Trade [%]                              -18.938746\n",
       "Avg Winning Trade [%]                          5.936358\n",
       "Avg Losing Trade [%]                          -2.907074\n",
       "Avg Winning Trade Duration    3 days 15:34:09.822064056\n",
       "Avg Losing Trade Duration     1 days 10:06:58.009478673\n",
       "Profit Factor                                  1.095495\n",
       "Expectancy                                    296.36931\n",
       "Sharpe Ratio                                   1.268002\n",
       "Calmar Ratio                                   1.841898\n",
       "Omega Ratio                                    1.045818\n",
       "Sortino Ratio                                    1.8458\n",
       "dtype: object"
      ]
     },
     "execution_count": 7,
     "metadata": {},
     "output_type": "execute_result"
    }
   ],
   "source": [
    "port.stats()"
   ]
  },
  {
   "cell_type": "code",
   "execution_count": 8,
   "id": "5f04b4b7-a561-4269-8f36-0b8963ed5e54",
   "metadata": {},
   "outputs": [
    {
     "data": {
      "application/vnd.jupyter.widget-view+json": {
       "model_id": "0bec4879fcb64bdab73acf54e2739fd8",
       "version_major": 2,
       "version_minor": 0
      },
      "text/plain": [
       "FigureWidget({\n",
       "    'data': [{'showlegend': False,\n",
       "              'type': 'scatter',\n",
       "              'uid': 'cc697…"
      ]
     },
     "metadata": {},
     "output_type": "display_data"
    }
   ],
   "source": [
    "port.value().vbt.plot() #equity curve"
   ]
  },
  {
   "cell_type": "markdown",
   "id": "55cfbadb-8296-42dc-92cf-5405d4908cad",
   "metadata": {
    "tags": []
   },
   "source": [
    "#### Optimise SL"
   ]
  },
  {
   "cell_type": "code",
   "execution_count": 9,
   "id": "fdaac388-342e-4f17-84de-b32a1c23c798",
   "metadata": {},
   "outputs": [
    {
     "data": {
      "text/html": [
       "<div>\n",
       "<style scoped>\n",
       "    .dataframe tbody tr th:only-of-type {\n",
       "        vertical-align: middle;\n",
       "    }\n",
       "\n",
       "    .dataframe tbody tr th {\n",
       "        vertical-align: top;\n",
       "    }\n",
       "\n",
       "    .dataframe thead th {\n",
       "        text-align: right;\n",
       "    }\n",
       "</style>\n",
       "<table border=\"1\" class=\"dataframe\">\n",
       "  <thead>\n",
       "    <tr style=\"text-align: right;\">\n",
       "      <th></th>\n",
       "      <th>Start</th>\n",
       "      <th>End</th>\n",
       "      <th>Period</th>\n",
       "      <th>Start Value</th>\n",
       "      <th>End Value</th>\n",
       "      <th>Total Return [%]</th>\n",
       "      <th>Benchmark Return [%]</th>\n",
       "      <th>Max Gross Exposure [%]</th>\n",
       "      <th>Total Fees Paid</th>\n",
       "      <th>Max Drawdown [%]</th>\n",
       "      <th>...</th>\n",
       "      <th>Avg Winning Trade [%]</th>\n",
       "      <th>Avg Losing Trade [%]</th>\n",
       "      <th>Avg Winning Trade Duration</th>\n",
       "      <th>Avg Losing Trade Duration</th>\n",
       "      <th>Profit Factor</th>\n",
       "      <th>Expectancy</th>\n",
       "      <th>Sharpe Ratio</th>\n",
       "      <th>Calmar Ratio</th>\n",
       "      <th>Omega Ratio</th>\n",
       "      <th>Sortino Ratio</th>\n",
       "    </tr>\n",
       "  </thead>\n",
       "  <tbody>\n",
       "    <tr>\n",
       "      <th>3</th>\n",
       "      <td>2017-08-17 04:00:00</td>\n",
       "      <td>2022-02-03</td>\n",
       "      <td>1625 days 15:00:00</td>\n",
       "      <td>10000.0</td>\n",
       "      <td>331239.807710</td>\n",
       "      <td>3212.398077</td>\n",
       "      <td>755.879438</td>\n",
       "      <td>100.0</td>\n",
       "      <td>0.0</td>\n",
       "      <td>51.794364</td>\n",
       "      <td>...</td>\n",
       "      <td>5.719103</td>\n",
       "      <td>-1.870047</td>\n",
       "      <td>3 days 09:35:12.302839116</td>\n",
       "      <td>0 days 17:38:52.678821879</td>\n",
       "      <td>1.109118</td>\n",
       "      <td>307.214610</td>\n",
       "      <td>1.389927</td>\n",
       "      <td>2.306046</td>\n",
       "      <td>1.050568</td>\n",
       "      <td>2.036698</td>\n",
       "    </tr>\n",
       "    <tr>\n",
       "      <th>2</th>\n",
       "      <td>2017-08-17 04:00:00</td>\n",
       "      <td>2022-02-03</td>\n",
       "      <td>1625 days 15:00:00</td>\n",
       "      <td>10000.0</td>\n",
       "      <td>290653.438577</td>\n",
       "      <td>2806.534386</td>\n",
       "      <td>755.879438</td>\n",
       "      <td>100.0</td>\n",
       "      <td>0.0</td>\n",
       "      <td>52.348659</td>\n",
       "      <td>...</td>\n",
       "      <td>5.688523</td>\n",
       "      <td>-1.821352</td>\n",
       "      <td>3 days 09:12:22.500000</td>\n",
       "      <td>0 days 16:42:33.432032301</td>\n",
       "      <td>1.109208</td>\n",
       "      <td>260.050696</td>\n",
       "      <td>1.353106</td>\n",
       "      <td>2.160390</td>\n",
       "      <td>1.049235</td>\n",
       "      <td>1.981322</td>\n",
       "    </tr>\n",
       "    <tr>\n",
       "      <th>7</th>\n",
       "      <td>2017-08-17 04:00:00</td>\n",
       "      <td>2022-02-03</td>\n",
       "      <td>1625 days 15:00:00</td>\n",
       "      <td>10000.0</td>\n",
       "      <td>247389.310527</td>\n",
       "      <td>2373.893105</td>\n",
       "      <td>755.879438</td>\n",
       "      <td>100.0</td>\n",
       "      <td>0.0</td>\n",
       "      <td>56.714750</td>\n",
       "      <td>...</td>\n",
       "      <td>5.825093</td>\n",
       "      <td>-2.125084</td>\n",
       "      <td>3 days 11:52:53.684210526</td>\n",
       "      <td>0 days 21:02:18.906752411</td>\n",
       "      <td>1.089220</td>\n",
       "      <td>252.481476</td>\n",
       "      <td>1.304581</td>\n",
       "      <td>1.860542</td>\n",
       "      <td>1.047340</td>\n",
       "      <td>1.908592</td>\n",
       "    </tr>\n",
       "    <tr>\n",
       "      <th>1</th>\n",
       "      <td>2017-08-17 04:00:00</td>\n",
       "      <td>2022-02-03</td>\n",
       "      <td>1625 days 15:00:00</td>\n",
       "      <td>10000.0</td>\n",
       "      <td>242713.841846</td>\n",
       "      <td>2327.138418</td>\n",
       "      <td>755.879438</td>\n",
       "      <td>100.0</td>\n",
       "      <td>0.0</td>\n",
       "      <td>49.594705</td>\n",
       "      <td>...</td>\n",
       "      <td>5.611094</td>\n",
       "      <td>-1.747879</td>\n",
       "      <td>3 days 08:23:37.846153846</td>\n",
       "      <td>0 days 15:31:33.773824650</td>\n",
       "      <td>1.109118</td>\n",
       "      <td>206.106344</td>\n",
       "      <td>1.301894</td>\n",
       "      <td>2.109935</td>\n",
       "      <td>1.047406</td>\n",
       "      <td>1.901948</td>\n",
       "    </tr>\n",
       "    <tr>\n",
       "      <th>4</th>\n",
       "      <td>2017-08-17 04:00:00</td>\n",
       "      <td>2022-02-03</td>\n",
       "      <td>1625 days 15:00:00</td>\n",
       "      <td>10000.0</td>\n",
       "      <td>242796.684640</td>\n",
       "      <td>2327.966846</td>\n",
       "      <td>755.879438</td>\n",
       "      <td>100.0</td>\n",
       "      <td>0.0</td>\n",
       "      <td>53.833166</td>\n",
       "      <td>...</td>\n",
       "      <td>5.751353</td>\n",
       "      <td>-1.966473</td>\n",
       "      <td>3 days 09:56:55.974440894</td>\n",
       "      <td>0 days 18:40:52.401746724</td>\n",
       "      <td>1.096720</td>\n",
       "      <td>229.271894</td>\n",
       "      <td>1.300595</td>\n",
       "      <td>1.944104</td>\n",
       "      <td>1.047246</td>\n",
       "      <td>1.903075</td>\n",
       "    </tr>\n",
       "  </tbody>\n",
       "</table>\n",
       "<p>5 rows × 28 columns</p>\n",
       "</div>"
      ],
      "text/plain": [
       "                Start        End             Period  Start Value  \\\n",
       "3 2017-08-17 04:00:00 2022-02-03 1625 days 15:00:00      10000.0   \n",
       "2 2017-08-17 04:00:00 2022-02-03 1625 days 15:00:00      10000.0   \n",
       "7 2017-08-17 04:00:00 2022-02-03 1625 days 15:00:00      10000.0   \n",
       "1 2017-08-17 04:00:00 2022-02-03 1625 days 15:00:00      10000.0   \n",
       "4 2017-08-17 04:00:00 2022-02-03 1625 days 15:00:00      10000.0   \n",
       "\n",
       "       End Value  Total Return [%]  Benchmark Return [%]  \\\n",
       "3  331239.807710       3212.398077            755.879438   \n",
       "2  290653.438577       2806.534386            755.879438   \n",
       "7  247389.310527       2373.893105            755.879438   \n",
       "1  242713.841846       2327.138418            755.879438   \n",
       "4  242796.684640       2327.966846            755.879438   \n",
       "\n",
       "   Max Gross Exposure [%]  Total Fees Paid  Max Drawdown [%]  ...  \\\n",
       "3                   100.0              0.0         51.794364  ...   \n",
       "2                   100.0              0.0         52.348659  ...   \n",
       "7                   100.0              0.0         56.714750  ...   \n",
       "1                   100.0              0.0         49.594705  ...   \n",
       "4                   100.0              0.0         53.833166  ...   \n",
       "\n",
       "  Avg Winning Trade [%]  Avg Losing Trade [%]  Avg Winning Trade Duration  \\\n",
       "3              5.719103             -1.870047   3 days 09:35:12.302839116   \n",
       "2              5.688523             -1.821352      3 days 09:12:22.500000   \n",
       "7              5.825093             -2.125084   3 days 11:52:53.684210526   \n",
       "1              5.611094             -1.747879   3 days 08:23:37.846153846   \n",
       "4              5.751353             -1.966473   3 days 09:56:55.974440894   \n",
       "\n",
       "   Avg Losing Trade Duration  Profit Factor  Expectancy  Sharpe Ratio  \\\n",
       "3  0 days 17:38:52.678821879       1.109118  307.214610      1.389927   \n",
       "2  0 days 16:42:33.432032301       1.109208  260.050696      1.353106   \n",
       "7  0 days 21:02:18.906752411       1.089220  252.481476      1.304581   \n",
       "1  0 days 15:31:33.773824650       1.109118  206.106344      1.301894   \n",
       "4  0 days 18:40:52.401746724       1.096720  229.271894      1.300595   \n",
       "\n",
       "   Calmar Ratio  Omega Ratio  Sortino Ratio  \n",
       "3      2.306046     1.050568       2.036698  \n",
       "2      2.160390     1.049235       1.981322  \n",
       "7      1.860542     1.047340       1.908592  \n",
       "1      2.109935     1.047406       1.901948  \n",
       "4      1.944104     1.047246       1.903075  \n",
       "\n",
       "[5 rows x 28 columns]"
      ]
     },
     "execution_count": 9,
     "metadata": {},
     "output_type": "execute_result"
    }
   ],
   "source": [
    "df['atr'] = df.ta.atr()\n",
    "portstats = []\n",
    "start, end, step = (1, 4, 0.1)\n",
    "array = np.arange(start,end,step)\n",
    "for i in array:\n",
    "    multiply = i\n",
    "    df['sl_stop'] = (df['atr'] * multiply) / df.Close\n",
    "    port = vbt.Portfolio.from_signals(df.Close,\n",
    "                                    entries = LongEntries,\n",
    "                                    exits = LongExit,\n",
    "                                    short_entries = ShortEntries,\n",
    "                                    short_exits = ShortExit,\n",
    "                                    freq = 'H',\n",
    "                                    init_cash = 10000,\n",
    "                                    fees = 0.00,\n",
    "                                    slippage = 0.00,\n",
    "                                    sl_stop = df['sl_stop']  \n",
    "                                     )\n",
    "    portstats.append(port.stats())\n",
    "pd.DataFrame(portstats).sort_values('Sharpe Ratio',ascending=False).head(5)    "
   ]
  },
  {
   "cell_type": "markdown",
   "id": "8f9ec81a-fd71-446c-a9ec-e2795b3449b6",
   "metadata": {},
   "source": [
    "#### implove with  SL"
   ]
  },
  {
   "cell_type": "code",
   "execution_count": 10,
   "id": "764f01b9-4af5-4160-80a5-06201ff9945f",
   "metadata": {},
   "outputs": [],
   "source": [
    "df['atr'] = df.ta.atr()\n",
    "df['sl_stop'] = (df['atr'] * 1.3) / df.Close\n",
    "port = vbt.Portfolio.from_signals(df.Close,\n",
    "                                entries = LongEntries,\n",
    "                                exits = LongExit,\n",
    "                                short_entries = ShortEntries,\n",
    "                                short_exits = ShortExit,\n",
    "                                freq = 'H',\n",
    "                                init_cash = 10000,\n",
    "                                fees = 0.00,\n",
    "                                slippage = 0.00, sl_stop = df['sl_stop'])"
   ]
  },
  {
   "cell_type": "code",
   "execution_count": 11,
   "id": "132baa72-691f-4996-85f8-7f208a494b6e",
   "metadata": {},
   "outputs": [
    {
     "name": "stdout",
     "output_type": "stream",
     "text": [
      "Percent_kelly = 0.043538433185641434\n"
     ]
    }
   ],
   "source": [
    "Calkelly(port)"
   ]
  },
  {
   "cell_type": "code",
   "execution_count": 12,
   "id": "a1477519-1901-440d-af8e-d46f45f56502",
   "metadata": {},
   "outputs": [
    {
     "data": {
      "text/plain": [
       "Start                               2017-08-17 04:00:00\n",
       "End                                 2022-02-03 00:00:00\n",
       "Period                               1625 days 15:00:00\n",
       "Start Value                                     10000.0\n",
       "End Value                                  331239.80771\n",
       "Total Return [%]                            3212.398077\n",
       "Benchmark Return [%]                         755.879438\n",
       "Max Gross Exposure [%]                            100.0\n",
       "Total Fees Paid                                     0.0\n",
       "Max Drawdown [%]                              51.794364\n",
       "Max Drawdown Duration                 208 days 00:00:00\n",
       "Total Trades                                       1031\n",
       "Total Closed Trades                                1030\n",
       "Total Open Trades                                     1\n",
       "Open Trade PnL                              4808.759645\n",
       "Win Rate [%]                                  30.776699\n",
       "Best Trade [%]                                62.389889\n",
       "Worst Trade [%]                               -9.079114\n",
       "Avg Winning Trade [%]                          5.719103\n",
       "Avg Losing Trade [%]                          -1.870047\n",
       "Avg Winning Trade Duration    3 days 09:35:12.302839116\n",
       "Avg Losing Trade Duration     0 days 17:38:52.678821879\n",
       "Profit Factor                                  1.109118\n",
       "Expectancy                                    307.21461\n",
       "Sharpe Ratio                                   1.389927\n",
       "Calmar Ratio                                   2.306046\n",
       "Omega Ratio                                    1.050568\n",
       "Sortino Ratio                                  2.036698\n",
       "dtype: object"
      ]
     },
     "execution_count": 12,
     "metadata": {},
     "output_type": "execute_result"
    }
   ],
   "source": [
    "port.stats()"
   ]
  },
  {
   "cell_type": "code",
   "execution_count": 13,
   "id": "202b1ca3-eeed-4e8b-ac68-e127279a563b",
   "metadata": {},
   "outputs": [
    {
     "data": {
      "application/vnd.jupyter.widget-view+json": {
       "model_id": "cac5d338d8ca4c4ebb2d3112ca3fd971",
       "version_major": 2,
       "version_minor": 0
      },
      "text/plain": [
       "FigureWidget({\n",
       "    'data': [{'showlegend': False,\n",
       "              'type': 'scatter',\n",
       "              'uid': '58400…"
      ]
     },
     "metadata": {},
     "output_type": "display_data"
    }
   ],
   "source": [
    "port.value().vbt.plot() #equity curve"
   ]
  },
  {
   "cell_type": "markdown",
   "id": "5be0c29c-e533-4f6a-9810-0eaa254ca929",
   "metadata": {},
   "source": [
    "### improve with MA"
   ]
  },
  {
   "cell_type": "code",
   "execution_count": 14,
   "id": "7a975fde-6af5-4285-a321-cf4b02fd81a0",
   "metadata": {},
   "outputs": [],
   "source": [
    "supert = df.ta.supertrend(7)['SUPERTd_7_3.0']\n",
    "ema1 = df.ta.ema(50)\n",
    "ema2 = df.ta.ema(200)\n",
    "\n",
    "long_signal = (supert == 1)  & (ema1>ema2)\n",
    "short_signal = (supert == -1) & (ema1<ema2)\n",
    "  \n",
    "long_exit = (supert == -1)\n",
    "short_exit = (supert == 1)\n",
    "\n",
    "#add to Empty Dataframe\n",
    "LongEntries = long_signal\n",
    "LongExit= long_exit    \n",
    "ShortEntries= short_signal\n",
    "ShortExit= short_exit"
   ]
  },
  {
   "cell_type": "code",
   "execution_count": 15,
   "id": "f2d5ed28-7b71-4d4b-be82-46ab62d549c4",
   "metadata": {},
   "outputs": [],
   "source": [
    "port = vbt.Portfolio.from_signals(df.Close,\n",
    "                                entries = LongEntries,\n",
    "                                exits = LongExit,\n",
    "                                short_entries = ShortEntries,\n",
    "                                short_exits = ShortExit,\n",
    "                                freq = 'H',\n",
    "                                init_cash = 10000,\n",
    "                                fees = 0.00,\n",
    "                                slippage = 0.00)"
   ]
  },
  {
   "cell_type": "code",
   "execution_count": 16,
   "id": "4f0dd186-62ab-4d63-8655-d2ba7ed588a5",
   "metadata": {},
   "outputs": [
    {
     "name": "stdout",
     "output_type": "stream",
     "text": [
      "Percent_kelly = 0.0435048966005937\n"
     ]
    }
   ],
   "source": [
    "Calkelly(port)"
   ]
  },
  {
   "cell_type": "code",
   "execution_count": 17,
   "id": "92f2d0fb-282e-4e13-b01d-d3acacff8ac0",
   "metadata": {},
   "outputs": [
    {
     "data": {
      "text/plain": [
       "Start                               2017-08-17 04:00:00\n",
       "End                                 2022-02-03 00:00:00\n",
       "Period                               1625 days 15:00:00\n",
       "Start Value                                     10000.0\n",
       "End Value                                 122221.830656\n",
       "Total Return [%]                            1122.218307\n",
       "Benchmark Return [%]                         755.879438\n",
       "Max Gross Exposure [%]                            100.0\n",
       "Total Fees Paid                                     0.0\n",
       "Max Drawdown [%]                              43.857316\n",
       "Max Drawdown Duration                 395 days 16:00:00\n",
       "Total Trades                                        453\n",
       "Total Closed Trades                                 453\n",
       "Total Open Trades                                     0\n",
       "Open Trade PnL                                      0.0\n",
       "Win Rate [%]                                  38.410596\n",
       "Best Trade [%]                                55.417701\n",
       "Worst Trade [%]                              -13.482085\n",
       "Avg Winning Trade [%]                           6.33867\n",
       "Avg Losing Trade [%]                          -2.730557\n",
       "Avg Winning Trade Duration    3 days 14:30:41.379310344\n",
       "Avg Losing Trade Duration     1 days 09:38:55.483870967\n",
       "Profit Factor                                  1.158371\n",
       "Expectancy                                    247.73031\n",
       "Sharpe Ratio                                    1.20529\n",
       "Calmar Ratio                                   1.719827\n",
       "Omega Ratio                                    1.055144\n",
       "Sortino Ratio                                  1.721029\n",
       "dtype: object"
      ]
     },
     "execution_count": 17,
     "metadata": {},
     "output_type": "execute_result"
    }
   ],
   "source": [
    "port.stats()"
   ]
  },
  {
   "cell_type": "code",
   "execution_count": 18,
   "id": "fccf5a43-49a8-4d8c-aab7-7a6228d32ae6",
   "metadata": {},
   "outputs": [
    {
     "data": {
      "application/vnd.jupyter.widget-view+json": {
       "model_id": "d4719482018344b9985a786dc1dcf4c6",
       "version_major": 2,
       "version_minor": 0
      },
      "text/plain": [
       "FigureWidget({\n",
       "    'data': [{'showlegend': False,\n",
       "              'type': 'scatter',\n",
       "              'uid': 'e1feb…"
      ]
     },
     "metadata": {},
     "output_type": "display_data"
    }
   ],
   "source": [
    "port.value().vbt.plot() #equity curve"
   ]
  },
  {
   "cell_type": "markdown",
   "id": "49f8a073-e716-4536-9b63-6d8a78e37561",
   "metadata": {},
   "source": [
    "#### Improve with MA + SL"
   ]
  },
  {
   "cell_type": "code",
   "execution_count": 19,
   "id": "29b3ee11-128a-4199-b85c-73c59609219b",
   "metadata": {},
   "outputs": [],
   "source": [
    "supert = df.ta.supertrend(7)['SUPERTd_7_3.0']\n",
    "ema1 = df.ta.ema(50)\n",
    "ema2 = df.ta.ema(200)\n",
    "\n",
    "long_signal = (supert == 1)  & (ema1>ema2)\n",
    "short_signal = (supert == -1) & (ema1<ema2)\n",
    "  \n",
    "long_exit = (supert == -1)\n",
    "short_exit = (supert == 1)\n",
    "\n",
    "#add to Empty Dataframe\n",
    "LongEntries = long_signal\n",
    "LongExit= long_exit    \n",
    "ShortEntries= short_signal\n",
    "ShortExit= short_exit\n",
    "\n",
    "df['atr'] = df.ta.atr()\n",
    "df['sl_stop'] = (df['atr'] * 1.3) / df.Close\n",
    "port = vbt.Portfolio.from_signals(df.Close,\n",
    "                                entries = LongEntries,\n",
    "                                exits = LongExit,\n",
    "                                short_entries = ShortEntries,\n",
    "                                short_exits = ShortExit,\n",
    "                                freq = 'H',\n",
    "                                init_cash = 10000,\n",
    "                                fees = 0.00,\n",
    "                                slippage = 0.00, sl_stop = df['sl_stop'])"
   ]
  },
  {
   "cell_type": "code",
   "execution_count": 20,
   "id": "d193acce-72cc-4a1c-adb0-54d45a5b153b",
   "metadata": {},
   "outputs": [
    {
     "name": "stdout",
     "output_type": "stream",
     "text": [
      "Percent_kelly = 0.04376677444422804\n"
     ]
    }
   ],
   "source": [
    "Calkelly(port)"
   ]
  },
  {
   "cell_type": "code",
   "execution_count": 21,
   "id": "6641dba4-4441-4c55-ac62-9b24a6078876",
   "metadata": {},
   "outputs": [
    {
     "data": {
      "text/plain": [
       "Start                               2017-08-17 04:00:00\n",
       "End                                 2022-02-03 00:00:00\n",
       "Period                               1625 days 15:00:00\n",
       "Start Value                                     10000.0\n",
       "End Value                                 104735.954669\n",
       "Total Return [%]                             947.359547\n",
       "Benchmark Return [%]                         755.879438\n",
       "Max Gross Exposure [%]                            100.0\n",
       "Total Fees Paid                                     0.0\n",
       "Max Drawdown [%]                              42.983094\n",
       "Max Drawdown Duration                 390 days 18:00:00\n",
       "Total Trades                                        657\n",
       "Total Closed Trades                                 657\n",
       "Total Open Trades                                     0\n",
       "Open Trade PnL                                      0.0\n",
       "Win Rate [%]                                  29.984779\n",
       "Best Trade [%]                                55.417701\n",
       "Worst Trade [%]                               -9.351988\n",
       "Avg Winning Trade [%]                          6.029942\n",
       "Avg Losing Trade [%]                          -1.875463\n",
       "Avg Winning Trade Duration    3 days 08:47:30.761421319\n",
       "Avg Losing Trade Duration     0 days 17:57:23.478260869\n",
       "Profit Factor                                  1.139599\n",
       "Expectancy                                   144.194756\n",
       "Sharpe Ratio                                    1.15967\n",
       "Calmar Ratio                                   1.615747\n",
       "Omega Ratio                                     1.05303\n",
       "Sortino Ratio                                  1.660987\n",
       "dtype: object"
      ]
     },
     "execution_count": 21,
     "metadata": {},
     "output_type": "execute_result"
    }
   ],
   "source": [
    "port.stats()"
   ]
  },
  {
   "cell_type": "code",
   "execution_count": 22,
   "id": "1c63f877-b926-40fc-9bb3-4e805d725e55",
   "metadata": {},
   "outputs": [
    {
     "data": {
      "application/vnd.jupyter.widget-view+json": {
       "model_id": "919838df45a44206ac90de6eb73e0f2c",
       "version_major": 2,
       "version_minor": 0
      },
      "text/plain": [
       "FigureWidget({\n",
       "    'data': [{'showlegend': False,\n",
       "              'type': 'scatter',\n",
       "              'uid': '3cff8…"
      ]
     },
     "metadata": {},
     "output_type": "display_data"
    }
   ],
   "source": [
    "port.value().vbt.plot() #equity curve"
   ]
  },
  {
   "cell_type": "markdown",
   "id": "c1e059c5-d4f1-46ea-8774-03130b6607e4",
   "metadata": {},
   "source": [
    "#### Improve with EMA, ADX, SL"
   ]
  },
  {
   "cell_type": "code",
   "execution_count": 23,
   "id": "2e6458b4-a4f0-485f-bdcd-5201c5be5ffe",
   "metadata": {},
   "outputs": [
    {
     "name": "stdout",
     "output_type": "stream",
     "text": [
      "Percent_kelly = 0.045941130574704184\n"
     ]
    }
   ],
   "source": [
    "supert = df.ta.supertrend(7)['SUPERTd_7_3.0']\n",
    "adx = df.ta.adx()['ADX_14']\n",
    "ema1 = df.ta.ema(50)\n",
    "ema2 = df.ta.ema(200)\n",
    "long_signal = (supert == 1)  & (adx>20)& (ema1>ema2)\n",
    "short_signal = (supert == -1) & (adx>20) & (ema1<ema2)\n",
    "  \n",
    "long_exit = (supert == -1)\n",
    "short_exit = (supert == 1)\n",
    "\n",
    "#add to Empty Dataframe\n",
    "LongEntries = long_signal\n",
    "LongExit= long_exit    \n",
    "ShortEntries= short_signal\n",
    "ShortExit= short_exit\n",
    "\n",
    "df['atr'] = df.ta.atr()\n",
    "df['sl_stop'] = (df['atr'] * 1.3) / df.Close\n",
    "port = vbt.Portfolio.from_signals(df.Close,\n",
    "                                entries = LongEntries,\n",
    "                                exits = LongExit,\n",
    "                                short_entries = ShortEntries,\n",
    "                                short_exits = ShortExit,\n",
    "                                freq = 'H',\n",
    "                                init_cash = 10000,\n",
    "                                fees = 0.00,\n",
    "                                slippage = 0.00, sl_stop = df['sl_stop'])\n",
    "Calkelly(port)"
   ]
  },
  {
   "cell_type": "code",
   "execution_count": 24,
   "id": "eba5b06a-3649-435c-bf4d-2da2abad851b",
   "metadata": {},
   "outputs": [
    {
     "data": {
      "text/plain": [
       "Start                               2017-08-17 04:00:00\n",
       "End                                 2022-02-03 00:00:00\n",
       "Period                               1625 days 15:00:00\n",
       "Start Value                                     10000.0\n",
       "End Value                                  97870.434936\n",
       "Total Return [%]                             878.704349\n",
       "Benchmark Return [%]                         755.879438\n",
       "Max Gross Exposure [%]                            100.0\n",
       "Total Fees Paid                                     0.0\n",
       "Max Drawdown [%]                              40.832657\n",
       "Max Drawdown Duration                 390 days 18:00:00\n",
       "Total Trades                                        594\n",
       "Total Closed Trades                                 594\n",
       "Total Open Trades                                     0\n",
       "Open Trade PnL                                      0.0\n",
       "Win Rate [%]                                   30.13468\n",
       "Best Trade [%]                                55.417701\n",
       "Worst Trade [%]                               -9.351988\n",
       "Avg Winning Trade [%]                            6.0898\n",
       "Avg Losing Trade [%]                          -1.875607\n",
       "Avg Winning Trade Duration    3 days 08:52:37.541899441\n",
       "Avg Losing Trade Duration     0 days 18:55:13.734939759\n",
       "Profit Factor                                  1.150735\n",
       "Expectancy                                   147.930025\n",
       "Sharpe Ratio                                   1.146997\n",
       "Calmar Ratio                                   1.638147\n",
       "Omega Ratio                                    1.054813\n",
       "Sortino Ratio                                  1.643331\n",
       "dtype: object"
      ]
     },
     "execution_count": 24,
     "metadata": {},
     "output_type": "execute_result"
    }
   ],
   "source": [
    "port.stats()"
   ]
  },
  {
   "cell_type": "code",
   "execution_count": 25,
   "id": "c5bd4294-15c8-4240-a5b4-b7e2aa62b861",
   "metadata": {},
   "outputs": [
    {
     "data": {
      "application/vnd.jupyter.widget-view+json": {
       "model_id": "7ccfa0c87f3745298078305acf869d97",
       "version_major": 2,
       "version_minor": 0
      },
      "text/plain": [
       "FigureWidget({\n",
       "    'data': [{'showlegend': False,\n",
       "              'type': 'scatter',\n",
       "              'uid': 'bf7b5…"
      ]
     },
     "metadata": {},
     "output_type": "display_data"
    }
   ],
   "source": [
    "port.value().vbt.plot() #equity curve"
   ]
  },
  {
   "cell_type": "code",
   "execution_count": null,
   "id": "46a23d97-2544-44b0-9ed1-fcec6a0b04b5",
   "metadata": {},
   "outputs": [],
   "source": []
  }
 ],
 "metadata": {
  "kernelspec": {
   "display_name": "Python 3 (ipykernel)",
   "language": "python",
   "name": "python3"
  },
  "language_info": {
   "codemirror_mode": {
    "name": "ipython",
    "version": 3
   },
   "file_extension": ".py",
   "mimetype": "text/x-python",
   "name": "python",
   "nbconvert_exporter": "python",
   "pygments_lexer": "ipython3",
   "version": "3.8.12"
  }
 },
 "nbformat": 4,
 "nbformat_minor": 5
}
