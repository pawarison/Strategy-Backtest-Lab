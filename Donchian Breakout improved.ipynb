{
 "cells": [
  {
   "cell_type": "code",
   "execution_count": 1,
   "id": "912e4533-6233-44d6-b5f3-3a6cdbe9fca3",
   "metadata": {},
   "outputs": [],
   "source": [
    "import numpy as np\n",
    "import pandas as pd\n",
    "import vectorbt as vbt\n",
    "import seaborn as sns \n",
    "import matplotlib.pyplot as plt\n",
    "import pandas_ta as ta\n",
    "import yfinance as yf \n",
    "import warnings\n",
    "warnings.filterwarnings('ignore')\n",
    "plt.style.use('ggplot')\n",
    "%matplotlib inline"
   ]
  },
  {
   "cell_type": "code",
   "execution_count": 2,
   "id": "24d0f745-9efd-464c-a3e0-c2444b79cf17",
   "metadata": {},
   "outputs": [],
   "source": [
    "df = pd.read_csv('2022.2.9BTCUSDT-H1-NoSession.csv')\n",
    "df.Date = df.Date.astype(str)+' '+ df.Time\n",
    "df.Date = pd.to_datetime(df.Date)\n",
    "df.drop(columns= ['Time'], inplace = True)\n",
    "df = df.set_index('Date')"
   ]
  },
  {
   "cell_type": "code",
   "execution_count": 3,
   "id": "89e87e4d-facd-4b9d-b349-c3861d1dc5cc",
   "metadata": {},
   "outputs": [],
   "source": [
    "#initial\n",
    "def set_up_df(df:pd.DataFrame , index):  \n",
    "    df1    =   pd.DataFrame(columns=index)\n",
    "    df1['date']  =    df.index \n",
    "    df1.date = pd.to_datetime(df1.date,format='%Y-%m-%d')\n",
    "    df1 = df1.set_index('date')\n",
    "    return df1\n",
    "\n",
    "#for calculate duration\n",
    "def convert_to_hours(delta):\n",
    "    total_seconds = delta.total_seconds()\n",
    "    hours = str(int(total_seconds // 3600))\n",
    "    return hours\n",
    "\n",
    "#Performance Matric\n",
    "def cal_consecutive(df:pd.DataFrame):\n",
    "    df['win']= np.sign(df) # assign sign on log\n",
    "    blocks = df['win'].ne(df['win'].shift()).cumsum() \n",
    "    df['consecutive_WL'] = df['win'].groupby(blocks).cumsum()\n",
    "    return df['consecutive_WL'] \n",
    "\n",
    "def Cal_portstat(port):\n",
    "    port_return = port.total_return().to_frame()\n",
    "    port_return['MaxDD'] = port.max_drawdown()\n",
    "    port_return['NumTrade'] = port.trades.count()\n",
    "    port_return['WinRate'] = port.trades.win_rate()\n",
    "    port_return['AvgWinningTrade'] = port.trades.winning.returns.mean()\n",
    "    port_return['AvgLosingTrade'] = port.trades.losing.returns.mean()\n",
    "    port_return['SharpRatio'] = port.returns_acc.sharpe_ratio()\n",
    "    return port_return\n",
    "\n",
    "def Cal_pip(df):\n",
    "    pip = []\n",
    "    pipp = df['Avg Exit Price'] - df['Avg Entry Price']\n",
    "    for i in portfinal['Direction']:\n",
    "        if i == 'Long':\n",
    "            pip.append(1)\n",
    "        else :\n",
    "            pip.append(-1)    \n",
    "    return (pip * pipp) \n",
    "\n",
    "def Cal_mae_mfe(data,port):\n",
    "    MAE = []\n",
    "    MFE = []\n",
    "    for i,j,y,k in zip(port['Entry Timestamp'], port['Exit Timestamp'], port['Avg Entry Price'], port['Direction']):\n",
    "        if k == 'Long':\n",
    "            MFE.append((data.loc[i:j]['High'].max() - y)/y)\n",
    "            MAE.append((y - df.loc[i:j]['Low'].min())/y)\n",
    "        else :\n",
    "            MAE.append((data.loc[i:j]['High'].max() - y)/y)\n",
    "            MFE.append((y - df.loc[i:j]['Low'].min())/y)\n",
    "    return MAE, MFE \n",
    "\n",
    "def Calkelly(port, init_cash = 10000):\n",
    "    W = port.stats()[15]/100\n",
    "    A = abs(port.stats()[19])\n",
    "    B = port.stats()[18]\n",
    "    Percent_kelly = (W/A) - ((1-W)/B)\n",
    "    riskpertrade = Percent_kelly * init_cash\n",
    "    print(f'Percent_kelly = {Percent_kelly}')\n",
    "    "
   ]
  },
  {
   "cell_type": "markdown",
   "id": "eaf01840-6735-4d18-b985-04a19e376ea8",
   "metadata": {},
   "source": [
    "#### Donchian Strategy Default Parameter"
   ]
  },
  {
   "cell_type": "code",
   "execution_count": 4,
   "id": "031df3b1-ff12-4914-be20-bf9500d0bab2",
   "metadata": {},
   "outputs": [
    {
     "name": "stdout",
     "output_type": "stream",
     "text": [
      "Percent_kelly = 0.024640252492366413\n"
     ]
    }
   ],
   "source": [
    "lower = df.ta.donchian(28,28)['DCL_28_28']\n",
    "mid = df.ta.donchian(28,28)['DCM_28_28']\n",
    "upper = df.ta.donchian(28,28)['DCU_28_28']\n",
    "    \n",
    "    #define Signal\n",
    "long_signal = (upper > upper.shift())\n",
    "short_signal = (lower < lower.shift())\n",
    "long_exit = short_signal\n",
    "short_exit = long_signal\n",
    "    \n",
    "LongEntries = long_signal\n",
    "LongExit= long_exit      \n",
    "ShortEntries= short_signal\n",
    "ShortExit= short_exit\n",
    "\n",
    "port = vbt.Portfolio.from_signals(df.Close,\n",
    "                                    entries = LongEntries,\n",
    "                                    exits = LongExit,\n",
    "                                    short_entries = ShortEntries,\n",
    "                                    short_exits = ShortExit,\n",
    "                                    freq = 'H',\n",
    "                                    init_cash = 10000,\n",
    "                                    fees = 0.00,\n",
    "                                    slippage = 0.00)\n",
    "Calkelly(port)"
   ]
  },
  {
   "cell_type": "code",
   "execution_count": 5,
   "id": "fc68588b-a189-4e63-8429-4804af3258d5",
   "metadata": {},
   "outputs": [
    {
     "data": {
      "text/plain": [
       "Start                               2017-08-17 04:00:00\n",
       "End                                 2022-02-03 00:00:00\n",
       "Period                               1625 days 15:00:00\n",
       "Start Value                                     10000.0\n",
       "End Value                                  54288.551878\n",
       "Total Return [%]                             442.885519\n",
       "Benchmark Return [%]                         755.879438\n",
       "Max Gross Exposure [%]                            100.0\n",
       "Total Fees Paid                                     0.0\n",
       "Max Drawdown [%]                              60.876785\n",
       "Max Drawdown Duration                 467 days 21:00:00\n",
       "Total Trades                                        837\n",
       "Total Closed Trades                                 836\n",
       "Total Open Trades                                     1\n",
       "Open Trade PnL                              1162.913971\n",
       "Win Rate [%]                                  35.047847\n",
       "Best Trade [%]                                34.190166\n",
       "Worst Trade [%]                              -13.482085\n",
       "Avg Winning Trade [%]                          5.630753\n",
       "Avg Losing Trade [%]                          -2.503547\n",
       "Avg Winning Trade Duration    3 days 07:59:10.853242320\n",
       "Avg Losing Trade Duration     1 days 04:36:07.955801104\n",
       "Profit Factor                                  1.063229\n",
       "Expectancy                                    51.585691\n",
       "Sharpe Ratio                                   0.872766\n",
       "Calmar Ratio                                   0.758998\n",
       "Omega Ratio                                      1.0315\n",
       "Sortino Ratio                                   1.26129\n",
       "dtype: object"
      ]
     },
     "execution_count": 5,
     "metadata": {},
     "output_type": "execute_result"
    }
   ],
   "source": [
    "port.stats()"
   ]
  },
  {
   "cell_type": "code",
   "execution_count": 6,
   "id": "4018f179-db1a-4780-9529-0ca1cfd2e7be",
   "metadata": {},
   "outputs": [
    {
     "data": {
      "application/vnd.jupyter.widget-view+json": {
       "model_id": "573570ae7d9a4776b6407fc9e5025797",
       "version_major": 2,
       "version_minor": 0
      },
      "text/plain": [
       "FigureWidget({\n",
       "    'data': [{'showlegend': False,\n",
       "              'type': 'scatter',\n",
       "              'uid': 'e2a34…"
      ]
     },
     "metadata": {},
     "output_type": "display_data"
    }
   ],
   "source": [
    "port.value().vbt.plot() #equity curve"
   ]
  },
  {
   "cell_type": "markdown",
   "id": "4d1a6a98-19f0-43ce-aeff-4a120d69227f",
   "metadata": {
    "tags": []
   },
   "source": [
    "#### SL Optimise"
   ]
  },
  {
   "cell_type": "code",
   "execution_count": 7,
   "id": "993d8373-a811-4ed2-8add-49728bcb6d20",
   "metadata": {},
   "outputs": [
    {
     "data": {
      "text/html": [
       "<div>\n",
       "<style scoped>\n",
       "    .dataframe tbody tr th:only-of-type {\n",
       "        vertical-align: middle;\n",
       "    }\n",
       "\n",
       "    .dataframe tbody tr th {\n",
       "        vertical-align: top;\n",
       "    }\n",
       "\n",
       "    .dataframe thead th {\n",
       "        text-align: right;\n",
       "    }\n",
       "</style>\n",
       "<table border=\"1\" class=\"dataframe\">\n",
       "  <thead>\n",
       "    <tr style=\"text-align: right;\">\n",
       "      <th></th>\n",
       "      <th>Start</th>\n",
       "      <th>End</th>\n",
       "      <th>Period</th>\n",
       "      <th>Start Value</th>\n",
       "      <th>End Value</th>\n",
       "      <th>Total Return [%]</th>\n",
       "      <th>Benchmark Return [%]</th>\n",
       "      <th>Max Gross Exposure [%]</th>\n",
       "      <th>Total Fees Paid</th>\n",
       "      <th>Max Drawdown [%]</th>\n",
       "      <th>...</th>\n",
       "      <th>Avg Winning Trade [%]</th>\n",
       "      <th>Avg Losing Trade [%]</th>\n",
       "      <th>Avg Winning Trade Duration</th>\n",
       "      <th>Avg Losing Trade Duration</th>\n",
       "      <th>Profit Factor</th>\n",
       "      <th>Expectancy</th>\n",
       "      <th>Sharpe Ratio</th>\n",
       "      <th>Calmar Ratio</th>\n",
       "      <th>Omega Ratio</th>\n",
       "      <th>Sortino Ratio</th>\n",
       "    </tr>\n",
       "  </thead>\n",
       "  <tbody>\n",
       "    <tr>\n",
       "      <th>5</th>\n",
       "      <td>2017-08-17 04:00:00</td>\n",
       "      <td>2022-02-03</td>\n",
       "      <td>1625 days 15:00:00</td>\n",
       "      <td>10000.0</td>\n",
       "      <td>99506.819652</td>\n",
       "      <td>895.068197</td>\n",
       "      <td>755.879438</td>\n",
       "      <td>100.0</td>\n",
       "      <td>0.0</td>\n",
       "      <td>41.337275</td>\n",
       "      <td>...</td>\n",
       "      <td>5.674917</td>\n",
       "      <td>-1.977206</td>\n",
       "      <td>3 days 04:41:17.419354838</td>\n",
       "      <td>0 days 19:43:14.285714285</td>\n",
       "      <td>1.109772</td>\n",
       "      <td>96.878145</td>\n",
       "      <td>1.053398</td>\n",
       "      <td>1.633208</td>\n",
       "      <td>1.040785</td>\n",
       "      <td>1.530822</td>\n",
       "    </tr>\n",
       "    <tr>\n",
       "      <th>3</th>\n",
       "      <td>2017-08-17 04:00:00</td>\n",
       "      <td>2022-02-03</td>\n",
       "      <td>1625 days 15:00:00</td>\n",
       "      <td>10000.0</td>\n",
       "      <td>91597.159822</td>\n",
       "      <td>815.971598</td>\n",
       "      <td>755.879438</td>\n",
       "      <td>100.0</td>\n",
       "      <td>0.0</td>\n",
       "      <td>40.557003</td>\n",
       "      <td>...</td>\n",
       "      <td>5.714534</td>\n",
       "      <td>-1.843147</td>\n",
       "      <td>3 days 04:28:01.751824817</td>\n",
       "      <td>0 days 17:29:11.785714285</td>\n",
       "      <td>1.116865</td>\n",
       "      <td>84.849262</td>\n",
       "      <td>1.032973</td>\n",
       "      <td>1.588529</td>\n",
       "      <td>1.040636</td>\n",
       "      <td>1.502128</td>\n",
       "    </tr>\n",
       "    <tr>\n",
       "      <th>13</th>\n",
       "      <td>2017-08-17 04:00:00</td>\n",
       "      <td>2022-02-03</td>\n",
       "      <td>1625 days 15:00:00</td>\n",
       "      <td>10000.0</td>\n",
       "      <td>92723.411357</td>\n",
       "      <td>827.234114</td>\n",
       "      <td>755.879438</td>\n",
       "      <td>100.0</td>\n",
       "      <td>0.0</td>\n",
       "      <td>41.815802</td>\n",
       "      <td>...</td>\n",
       "      <td>5.691932</td>\n",
       "      <td>-2.319013</td>\n",
       "      <td>3 days 06:45:15.789473684</td>\n",
       "      <td>1 days 01:25:40.072202166</td>\n",
       "      <td>1.103962</td>\n",
       "      <td>96.230256</td>\n",
       "      <td>1.025746</td>\n",
       "      <td>1.551513</td>\n",
       "      <td>1.038136</td>\n",
       "      <td>1.482812</td>\n",
       "    </tr>\n",
       "    <tr>\n",
       "      <th>12</th>\n",
       "      <td>2017-08-17 04:00:00</td>\n",
       "      <td>2022-02-03</td>\n",
       "      <td>1625 days 15:00:00</td>\n",
       "      <td>10000.0</td>\n",
       "      <td>88716.943540</td>\n",
       "      <td>787.169435</td>\n",
       "      <td>755.879438</td>\n",
       "      <td>100.0</td>\n",
       "      <td>0.0</td>\n",
       "      <td>40.857403</td>\n",
       "      <td>...</td>\n",
       "      <td>5.680856</td>\n",
       "      <td>-2.288123</td>\n",
       "      <td>3 days 06:17:06.760563380</td>\n",
       "      <td>1 days 01:03:19.285714285</td>\n",
       "      <td>1.101193</td>\n",
       "      <td>91.014857</td>\n",
       "      <td>1.013862</td>\n",
       "      <td>1.548084</td>\n",
       "      <td>1.037838</td>\n",
       "      <td>1.466637</td>\n",
       "    </tr>\n",
       "    <tr>\n",
       "      <th>2</th>\n",
       "      <td>2017-08-17 04:00:00</td>\n",
       "      <td>2022-02-03</td>\n",
       "      <td>1625 days 15:00:00</td>\n",
       "      <td>10000.0</td>\n",
       "      <td>83260.724870</td>\n",
       "      <td>732.607249</td>\n",
       "      <td>755.879438</td>\n",
       "      <td>100.0</td>\n",
       "      <td>0.0</td>\n",
       "      <td>43.446457</td>\n",
       "      <td>...</td>\n",
       "      <td>5.774159</td>\n",
       "      <td>-1.780861</td>\n",
       "      <td>3 days 04:46:29.667896678</td>\n",
       "      <td>0 days 16:06:05.142857142</td>\n",
       "      <td>1.123053</td>\n",
       "      <td>74.203904</td>\n",
       "      <td>1.006490</td>\n",
       "      <td>1.402659</td>\n",
       "      <td>1.039911</td>\n",
       "      <td>1.461744</td>\n",
       "    </tr>\n",
       "  </tbody>\n",
       "</table>\n",
       "<p>5 rows × 28 columns</p>\n",
       "</div>"
      ],
      "text/plain": [
       "                 Start        End             Period  Start Value  \\\n",
       "5  2017-08-17 04:00:00 2022-02-03 1625 days 15:00:00      10000.0   \n",
       "3  2017-08-17 04:00:00 2022-02-03 1625 days 15:00:00      10000.0   \n",
       "13 2017-08-17 04:00:00 2022-02-03 1625 days 15:00:00      10000.0   \n",
       "12 2017-08-17 04:00:00 2022-02-03 1625 days 15:00:00      10000.0   \n",
       "2  2017-08-17 04:00:00 2022-02-03 1625 days 15:00:00      10000.0   \n",
       "\n",
       "       End Value  Total Return [%]  Benchmark Return [%]  \\\n",
       "5   99506.819652        895.068197            755.879438   \n",
       "3   91597.159822        815.971598            755.879438   \n",
       "13  92723.411357        827.234114            755.879438   \n",
       "12  88716.943540        787.169435            755.879438   \n",
       "2   83260.724870        732.607249            755.879438   \n",
       "\n",
       "    Max Gross Exposure [%]  Total Fees Paid  Max Drawdown [%]  ...  \\\n",
       "5                    100.0              0.0         41.337275  ...   \n",
       "3                    100.0              0.0         40.557003  ...   \n",
       "13                   100.0              0.0         41.815802  ...   \n",
       "12                   100.0              0.0         40.857403  ...   \n",
       "2                    100.0              0.0         43.446457  ...   \n",
       "\n",
       "   Avg Winning Trade [%]  Avg Losing Trade [%]  Avg Winning Trade Duration  \\\n",
       "5               5.674917             -1.977206   3 days 04:41:17.419354838   \n",
       "3               5.714534             -1.843147   3 days 04:28:01.751824817   \n",
       "13              5.691932             -2.319013   3 days 06:45:15.789473684   \n",
       "12              5.680856             -2.288123   3 days 06:17:06.760563380   \n",
       "2               5.774159             -1.780861   3 days 04:46:29.667896678   \n",
       "\n",
       "    Avg Losing Trade Duration  Profit Factor  Expectancy  Sharpe Ratio  \\\n",
       "5   0 days 19:43:14.285714285       1.109772   96.878145      1.053398   \n",
       "3   0 days 17:29:11.785714285       1.116865   84.849262      1.032973   \n",
       "13  1 days 01:25:40.072202166       1.103962   96.230256      1.025746   \n",
       "12  1 days 01:03:19.285714285       1.101193   91.014857      1.013862   \n",
       "2   0 days 16:06:05.142857142       1.123053   74.203904      1.006490   \n",
       "\n",
       "    Calmar Ratio  Omega Ratio  Sortino Ratio  \n",
       "5       1.633208     1.040785       1.530822  \n",
       "3       1.588529     1.040636       1.502128  \n",
       "13      1.551513     1.038136       1.482812  \n",
       "12      1.548084     1.037838       1.466637  \n",
       "2       1.402659     1.039911       1.461744  \n",
       "\n",
       "[5 rows x 28 columns]"
      ]
     },
     "execution_count": 7,
     "metadata": {},
     "output_type": "execute_result"
    }
   ],
   "source": [
    "df['atr'] = df.ta.atr()\n",
    "portstats = []\n",
    "start, end, step = (1, 4, 0.1)\n",
    "array = np.arange(start,end,step)\n",
    "for i in array:\n",
    "    multiply = i\n",
    "    df['sl_stop'] = (df['atr'] * multiply) / df.Close\n",
    "    port = vbt.Portfolio.from_signals(df.Close,\n",
    "                                    entries = LongEntries,\n",
    "                                    exits = LongExit,\n",
    "                                    short_entries = ShortEntries,\n",
    "                                    short_exits = ShortExit,\n",
    "                                    freq = 'H',\n",
    "                                    init_cash = 10000,\n",
    "                                    fees = 0.00,\n",
    "                                    slippage = 0.00,\n",
    "                                    sl_stop = df['sl_stop']  \n",
    "                                     )\n",
    "    portstats.append(port.stats())\n",
    "pd.DataFrame(portstats).sort_values('Sharpe Ratio',ascending=False).head(5)   "
   ]
  },
  {
   "cell_type": "markdown",
   "id": "315b37ed-3439-4ba1-ade2-ad27aa151d76",
   "metadata": {},
   "source": [
    "#### Improve with Volatility Stoploss"
   ]
  },
  {
   "cell_type": "code",
   "execution_count": 23,
   "id": "ccaf005b-0d43-4e6e-90f4-331bf27a3fd3",
   "metadata": {},
   "outputs": [
    {
     "name": "stdout",
     "output_type": "stream",
     "text": [
      "Percent_kelly = 0.033106007648463526\n"
     ]
    }
   ],
   "source": [
    "df['atr'] = df.ta.atr()\n",
    "multiply = 1.5\n",
    "df['sl_stop'] = (df['atr'] * multiply) / df.Close\n",
    "\n",
    "lower = df.ta.donchian(28,28)['DCL_28_28']\n",
    "mid = df.ta.donchian(28,28)['DCM_28_28']\n",
    "upper = df.ta.donchian(28,28)['DCU_28_28']\n",
    "    \n",
    "#define Signal\n",
    "long_signal = (upper > upper.shift())\n",
    "short_signal = (lower < lower.shift())\n",
    "long_exit = short_signal\n",
    "short_exit = long_signal\n",
    "    \n",
    "LongEntries = long_signal\n",
    "LongExit= long_exit      \n",
    "ShortEntries= short_signal\n",
    "ShortExit= short_exit\n",
    "\n",
    "port = vbt.Portfolio.from_signals(df.Close,\n",
    "                                    entries = LongEntries,\n",
    "                                    exits = LongExit,\n",
    "                                    short_entries = ShortEntries,\n",
    "                                    short_exits = ShortExit,\n",
    "                                    freq = 'H',\n",
    "                                    init_cash = 10000,\n",
    "                                    fees = 0.00,\n",
    "                                    slippage = 0.00, sl_stop = df.sl_stop)\n",
    "Calkelly(port)"
   ]
  },
  {
   "cell_type": "code",
   "execution_count": 24,
   "id": "b3bbb6b3-2e93-49bb-b0bd-0f54184e9b02",
   "metadata": {},
   "outputs": [
    {
     "data": {
      "text/plain": [
       "Start                               2017-08-17 04:00:00\n",
       "End                                 2022-02-03 00:00:00\n",
       "Period                               1625 days 15:00:00\n",
       "Start Value                                     10000.0\n",
       "End Value                                  99506.819652\n",
       "Total Return [%]                             895.068197\n",
       "Benchmark Return [%]                         755.879438\n",
       "Max Gross Exposure [%]                            100.0\n",
       "Total Fees Paid                                     0.0\n",
       "Max Drawdown [%]                              41.337275\n",
       "Max Drawdown Duration                 240 days 14:00:00\n",
       "Total Trades                                        910\n",
       "Total Closed Trades                                 909\n",
       "Total Open Trades                                     1\n",
       "Open Trade PnL                               1444.58597\n",
       "Win Rate [%]                                  30.693069\n",
       "Best Trade [%]                                34.190166\n",
       "Worst Trade [%]                                -9.26312\n",
       "Avg Winning Trade [%]                          5.674917\n",
       "Avg Losing Trade [%]                          -1.977206\n",
       "Avg Winning Trade Duration    3 days 04:41:17.419354838\n",
       "Avg Losing Trade Duration     0 days 19:43:14.285714285\n",
       "Profit Factor                                  1.109772\n",
       "Expectancy                                    96.878145\n",
       "Sharpe Ratio                                   1.053398\n",
       "Calmar Ratio                                   1.633208\n",
       "Omega Ratio                                    1.040785\n",
       "Sortino Ratio                                  1.530822\n",
       "dtype: object"
      ]
     },
     "execution_count": 24,
     "metadata": {},
     "output_type": "execute_result"
    }
   ],
   "source": [
    "port.stats()"
   ]
  },
  {
   "cell_type": "code",
   "execution_count": 25,
   "id": "0212b4d3-a812-4018-82e9-7e6989afff76",
   "metadata": {},
   "outputs": [
    {
     "data": {
      "application/vnd.jupyter.widget-view+json": {
       "model_id": "58d03044849f4c02b9224ec7abaa9468",
       "version_major": 2,
       "version_minor": 0
      },
      "text/plain": [
       "FigureWidget({\n",
       "    'data': [{'showlegend': False,\n",
       "              'type': 'scatter',\n",
       "              'uid': '39cf4…"
      ]
     },
     "metadata": {},
     "output_type": "display_data"
    }
   ],
   "source": [
    "port.value().vbt.plot() #equity curve"
   ]
  },
  {
   "cell_type": "markdown",
   "id": "9c985928-22ba-44a2-bcd1-df0b0ee2ba82",
   "metadata": {},
   "source": [
    "#### improve with EMATrend and Volatility Stop"
   ]
  },
  {
   "cell_type": "code",
   "execution_count": 44,
   "id": "838c56f2-723e-448d-87ec-7224c8bb6138",
   "metadata": {},
   "outputs": [
    {
     "name": "stdout",
     "output_type": "stream",
     "text": [
      "Percent_kelly = 0.04197188063855736\n"
     ]
    }
   ],
   "source": [
    "ema1 = df.ta.ema(50)\n",
    "ema2 = df.ta.ema(200) \n",
    "\n",
    "df['atr'] = df.ta.atr()\n",
    "multiply = 2.5\n",
    "df['sl_stop'] = (df['atr'] * multiply) / df.Close\n",
    "\n",
    "lower = df.ta.donchian(28,28)['DCL_28_28']\n",
    "mid = df.ta.donchian(28,28)['DCM_28_28']\n",
    "upper = df.ta.donchian(28,28)['DCU_28_28']\n",
    "    \n",
    "#define Signal\n",
    "long_signal = (upper > upper.shift()) & (ema1>ema2)\n",
    "short_signal = (lower < lower.shift()) & (ema1<ema2)\n",
    "long_exit = (lower < lower.shift())\n",
    "short_exit = (upper > upper.shift())\n",
    "    \n",
    "LongEntries = long_signal\n",
    "LongExit= long_exit      \n",
    "ShortEntries= short_signal\n",
    "ShortExit= short_exit\n",
    "\n",
    "size = (1000/df['sl_stop'])/ df.Close\n",
    "port = vbt.Portfolio.from_signals(df.Close,\n",
    "                                    entries = LongEntries,\n",
    "                                    exits = LongExit,\n",
    "                                    short_entries = ShortEntries,\n",
    "                                    short_exits = ShortExit,\n",
    "                                    freq = 'H',\n",
    "                                    init_cash = 10000,\n",
    "                                    fees = 0.00,size=size,\n",
    "                                    slippage = 0.00, sl_stop = df.sl_stop)\n",
    "Calkelly(port)"
   ]
  },
  {
   "cell_type": "code",
   "execution_count": 45,
   "id": "67d70976-30fc-475e-9860-b85db7a83919",
   "metadata": {},
   "outputs": [
    {
     "data": {
      "text/plain": [
       "Start                               2017-08-17 04:00:00\n",
       "End                                 2022-02-03 00:00:00\n",
       "Period                               1625 days 15:00:00\n",
       "Start Value                                     10000.0\n",
       "End Value                                 145618.864394\n",
       "Total Return [%]                            1356.188644\n",
       "Benchmark Return [%]                         755.879438\n",
       "Max Gross Exposure [%]                     14511.089171\n",
       "Total Fees Paid                                     0.0\n",
       "Max Drawdown [%]                              65.225149\n",
       "Max Drawdown Duration                 189 days 07:00:00\n",
       "Total Trades                                        486\n",
       "Total Closed Trades                                 486\n",
       "Total Open Trades                                     0\n",
       "Open Trade PnL                                      0.0\n",
       "Win Rate [%]                                  34.773663\n",
       "Best Trade [%]                                34.190166\n",
       "Worst Trade [%]                              -12.137168\n",
       "Avg Winning Trade [%]                          6.244486\n",
       "Avg Losing Trade [%]                          -2.374826\n",
       "Avg Winning Trade Duration    3 days 09:17:45.088757396\n",
       "Avg Losing Trade Duration     1 days 01:58:06.435331230\n",
       "Profit Factor                                  1.519443\n",
       "Expectancy                                   279.051161\n",
       "Sharpe Ratio                                   1.251902\n",
       "Calmar Ratio                                   1.264291\n",
       "Omega Ratio                                    1.082015\n",
       "Sortino Ratio                                   1.78122\n",
       "dtype: object"
      ]
     },
     "execution_count": 45,
     "metadata": {},
     "output_type": "execute_result"
    }
   ],
   "source": [
    "port.stats()"
   ]
  },
  {
   "cell_type": "code",
   "execution_count": 46,
   "id": "25c57a4e-8428-4848-b257-22b1ee2ca106",
   "metadata": {},
   "outputs": [
    {
     "data": {
      "application/vnd.jupyter.widget-view+json": {
       "model_id": "65a8312477044bab8220ecc0b2b475e8",
       "version_major": 2,
       "version_minor": 0
      },
      "text/plain": [
       "FigureWidget({\n",
       "    'data': [{'showlegend': False,\n",
       "              'type': 'scatter',\n",
       "              'uid': '634e8…"
      ]
     },
     "metadata": {},
     "output_type": "display_data"
    }
   ],
   "source": [
    "port.value().vbt.plot() #equity curve"
   ]
  },
  {
   "cell_type": "markdown",
   "id": "a7e6f915-4816-48f0-875e-358ec7ae9560",
   "metadata": {},
   "source": [
    "--------------------------"
   ]
  },
  {
   "cell_type": "code",
   "execution_count": 14,
   "id": "a6a82431-48b4-4e41-b9f0-f0a750e4867f",
   "metadata": {},
   "outputs": [],
   "source": [
    "## Final Strategy\n",
    "def Strategy_final(df) :\n",
    "    ema1 = df.ta.ema(50)\n",
    "    ema2 = df.ta.ema(200) \n",
    "\n",
    "    df['atr'] = df.ta.atr()\n",
    "    multiply = 2.5\n",
    "    df['sl_stop'] = (df['atr'] * multiply) / df.Close\n",
    "\n",
    "    lower = df.ta.donchian(28,28)['DCL_28_28']\n",
    "    mid = df.ta.donchian(28,28)['DCM_28_28']\n",
    "    upper = df.ta.donchian(28,28)['DCU_28_28']\n",
    "\n",
    "    #define Signal\n",
    "    long_signal = (upper > upper.shift()) & (ema1>ema2)\n",
    "    short_signal = (lower < lower.shift()) & (ema1<ema2)\n",
    "    long_exit = (lower < lower.shift())\n",
    "    short_exit = (upper > upper.shift())\n",
    "\n",
    "    LongEntries = long_signal\n",
    "    LongExit= long_exit      \n",
    "    ShortEntries= short_signal\n",
    "    ShortExit= short_exit\n",
    "\n",
    "    port = vbt.Portfolio.from_signals(df.Close,\n",
    "                                        entries = LongEntries,\n",
    "                                        exits = LongExit,\n",
    "                                        short_entries = ShortEntries,\n",
    "                                        short_exits = ShortExit,\n",
    "                                        freq = 'H',\n",
    "                                        init_cash = 10000,\n",
    "                                        fees = 0.00,\n",
    "                                        slippage = 0.00, sl_stop = df.sl_stop)\n",
    "    return port"
   ]
  },
  {
   "cell_type": "markdown",
   "id": "b3e48a81-bb5b-4b25-bd24-3b2e04bbffb8",
   "metadata": {},
   "source": [
    "### Trend Period (Low Volatility)"
   ]
  },
  {
   "cell_type": "code",
   "execution_count": null,
   "id": "a4c118b9-5841-45b7-88a3-15a94feb8924",
   "metadata": {},
   "outputs": [],
   "source": [
    "df.loc[:'2021-02-01 20:00:00'].plot()"
   ]
  },
  {
   "cell_type": "code",
   "execution_count": 16,
   "id": "94ec22a1-a593-4086-83ef-26408afa454d",
   "metadata": {},
   "outputs": [
    {
     "data": {
      "text/plain": [
       "Start                               2017-08-17 04:00:00\n",
       "End                                 2021-02-01 20:00:00\n",
       "Period                               1260 days 00:00:00\n",
       "Start Value                                     10000.0\n",
       "End Value                                  98972.386378\n",
       "Total Return [%]                             889.723864\n",
       "Benchmark Return [%]                         685.167899\n",
       "Max Gross Exposure [%]                            100.0\n",
       "Total Fees Paid                                     0.0\n",
       "Max Drawdown [%]                               41.64044\n",
       "Max Drawdown Duration                 275 days 23:00:00\n",
       "Total Trades                                        363\n",
       "Total Closed Trades                                 362\n",
       "Total Open Trades                                     1\n",
       "Open Trade PnL                               914.670073\n",
       "Win Rate [%]                                   34.80663\n",
       "Best Trade [%]                                34.190166\n",
       "Worst Trade [%]                              -12.137168\n",
       "Avg Winning Trade [%]                          6.658336\n",
       "Avg Losing Trade [%]                          -2.312428\n",
       "Avg Winning Trade Duration    3 days 12:05:42.857142857\n",
       "Avg Losing Trade Duration     1 days 03:15:15.254237288\n",
       "Profit Factor                                  1.448467\n",
       "Expectancy                                    243.25336\n",
       "Sharpe Ratio                                   1.362832\n",
       "Calmar Ratio                                   2.263661\n",
       "Omega Ratio                                    1.068485\n",
       "Sortino Ratio                                  1.934723\n",
       "dtype: object"
      ]
     },
     "execution_count": 16,
     "metadata": {},
     "output_type": "execute_result"
    }
   ],
   "source": [
    "Strategy_final(df.loc[:'2021-02-01 20:00:00']).stats()"
   ]
  },
  {
   "cell_type": "code",
   "execution_count": 17,
   "id": "2dce2de5-ff47-455d-8ab5-6b61d1e934b4",
   "metadata": {},
   "outputs": [
    {
     "data": {
      "application/vnd.jupyter.widget-view+json": {
       "model_id": "286315352665474898326b1a235186c7",
       "version_major": 2,
       "version_minor": 0
      },
      "text/plain": [
       "FigureWidget({\n",
       "    'data': [{'showlegend': False,\n",
       "              'type': 'scatter',\n",
       "              'uid': '5f98e…"
      ]
     },
     "metadata": {},
     "output_type": "display_data"
    }
   ],
   "source": [
    "Strategy_final(df.loc[:'2021-02-01 20:00:00']).value().vbt.plot()"
   ]
  },
  {
   "cell_type": "code",
   "execution_count": 18,
   "id": "7b051023-57a9-4d7b-819b-593bb3a623d4",
   "metadata": {},
   "outputs": [
    {
     "data": {
      "application/vnd.jupyter.widget-view+json": {
       "model_id": "481aee72ba584bf182c00ebfb8b09099",
       "version_major": 2,
       "version_minor": 0
      },
      "text/plain": [
       "FigureWidget({\n",
       "    'data': [{'name': 'Close',\n",
       "              'showlegend': True,\n",
       "              'type': 'scatter…"
      ]
     },
     "metadata": {},
     "output_type": "display_data"
    }
   ],
   "source": [
    "df.loc[:'2021-02-01 20:00:00'].Close.vbt.plot() #Price"
   ]
  },
  {
   "cell_type": "markdown",
   "id": "4c9dd5b4-2734-41ef-81f8-558293db5dae",
   "metadata": {},
   "source": [
    "### Non-Trend Period (High Volatility)"
   ]
  },
  {
   "cell_type": "code",
   "execution_count": 19,
   "id": "bcbf8d75-e493-4878-af93-ce886b59ecfd",
   "metadata": {},
   "outputs": [
    {
     "data": {
      "text/plain": [
       "<AxesSubplot:xlabel='Date'>"
      ]
     },
     "execution_count": 19,
     "metadata": {},
     "output_type": "execute_result"
    },
    {
     "data": {
      "image/png": "[encoded data removed]",
      "text/plain": [
       "<Figure size 432x288 with 1 Axes>"
      ]
     },
     "metadata": {
      "needs_background": "light"
     },
     "output_type": "display_data"
    }
   ],
   "source": [
    "df.loc['2021-02-01 20:00:00':].plot()"
   ]
  },
  {
   "cell_type": "code",
   "execution_count": 20,
   "id": "98622d06-dced-4ebc-8787-cf498d8cd9d3",
   "metadata": {},
   "outputs": [
    {
     "data": {
      "text/plain": [
       "Start                               2021-02-01 20:00:00\n",
       "End                                 2022-02-03 00:00:00\n",
       "Period                                365 days 16:00:00\n",
       "Start Value                                     10000.0\n",
       "End Value                                    7951.18864\n",
       "Total Return [%]                             -20.488114\n",
       "Benchmark Return [%]                           9.005913\n",
       "Max Gross Exposure [%]                            100.0\n",
       "Total Fees Paid                                     0.0\n",
       "Max Drawdown [%]                              40.164082\n",
       "Max Drawdown Duration                 325 days 17:00:00\n",
       "Total Trades                                        122\n",
       "Total Closed Trades                                 122\n",
       "Total Open Trades                                     0\n",
       "Open Trade PnL                                      0.0\n",
       "Win Rate [%]                                  33.606557\n",
       "Best Trade [%]                                18.197921\n",
       "Worst Trade [%]                               -5.547442\n",
       "Avg Winning Trade [%]                          4.777015\n",
       "Avg Losing Trade [%]                          -2.556625\n",
       "Avg Winning Trade Duration    3 days 00:01:27.804878048\n",
       "Avg Losing Trade Duration               0 days 22:13:20\n",
       "Profit Factor                                  0.894518\n",
       "Expectancy                                   -16.793536\n",
       "Sharpe Ratio                                  -0.128602\n",
       "Calmar Ratio                                  -0.509283\n",
       "Omega Ratio                                    0.994608\n",
       "Sortino Ratio                                 -0.189473\n",
       "dtype: object"
      ]
     },
     "execution_count": 20,
     "metadata": {},
     "output_type": "execute_result"
    }
   ],
   "source": [
    "Strategy_final(df.loc['2021-02-01 20:00:00':]).stats()"
   ]
  },
  {
   "cell_type": "code",
   "execution_count": 21,
   "id": "9f29b632-a218-4d7b-a8fa-4192d270219c",
   "metadata": {},
   "outputs": [
    {
     "data": {
      "application/vnd.jupyter.widget-view+json": {
       "model_id": "4213f718108043f69189fa1e0469eef2",
       "version_major": 2,
       "version_minor": 0
      },
      "text/plain": [
       "FigureWidget({\n",
       "    'data': [{'showlegend': False,\n",
       "              'type': 'scatter',\n",
       "              'uid': '6325e…"
      ]
     },
     "metadata": {},
     "output_type": "display_data"
    }
   ],
   "source": [
    "Strategy_final(df.loc['2021-02-01 20:00:00':]).value().vbt.plot() #Equitycurve"
   ]
  },
  {
   "cell_type": "code",
   "execution_count": 22,
   "id": "95d6322b-e7b4-47b5-a07b-31ac8f2580b2",
   "metadata": {},
   "outputs": [
    {
     "data": {
      "application/vnd.jupyter.widget-view+json": {
       "model_id": "4241e0c375494be49b53926ca9ae959a",
       "version_major": 2,
       "version_minor": 0
      },
      "text/plain": [
       "FigureWidget({\n",
       "    'data': [{'name': 'Close',\n",
       "              'showlegend': True,\n",
       "              'type': 'scatter…"
      ]
     },
     "metadata": {},
     "output_type": "display_data"
    }
   ],
   "source": [
    "df.loc['2021-02-01 20:00:00':].Close.vbt.plot() #Price"
   ]
  },
  {
   "cell_type": "code",
   "execution_count": null,
   "id": "7e47e2c5-d01a-494b-a5fd-dfe87d63544a",
   "metadata": {},
   "outputs": [],
   "source": []
  },
  {
   "cell_type": "code",
   "execution_count": null,
   "id": "c3b3c691-0300-45d7-a8a5-4610390aec1e",
   "metadata": {},
   "outputs": [],
   "source": []
  }
 ],
 "metadata": {
  "kernelspec": {
   "display_name": "Python 3 (ipykernel)",
   "language": "python",
   "name": "python3"
  },
  "language_info": {
   "codemirror_mode": {
    "name": "ipython",
    "version": 3
   },
   "file_extension": ".py",
   "mimetype": "text/x-python",
   "name": "python",
   "nbconvert_exporter": "python",
   "pygments_lexer": "ipython3",
   "version": "3.8.12"
  }
 },
 "nbformat": 4,
 "nbformat_minor": 5
}
